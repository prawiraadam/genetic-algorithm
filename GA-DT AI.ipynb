{
 "cells": [
  {
   "cell_type": "code",
   "execution_count": 1,
   "metadata": {},
   "outputs": [],
   "source": [
    "import numpy as np\n",
    "import csv\n",
    "from random import *\n",
    "from tqdm import tqdm"
   ]
  },
  {
   "cell_type": "code",
   "execution_count": 5,
   "metadata": {},
   "outputs": [],
   "source": [
    "def randGen(jumlahKromosom):\n",
    "    kromosom = []\n",
    "    for x in range(jumlahKromosom):\n",
    "        kromosom.append(randint(0, 1))\n",
    "    return kromosom"
   ]
  },
  {
   "cell_type": "code",
   "execution_count": 6,
   "metadata": {},
   "outputs": [],
   "source": [
    "def initPopulation():\n",
    "    populasi=[]\n",
    "    jumlahPopulasi = int(input(\"Masukkan jumlah populasi awal : \"))\n",
    "    for i in range(jumlahPopulasi):\n",
    "        aturan = randint(2, 10)\n",
    "        jumlahKromosom = aturan * 15\n",
    "        kromosom = {'Gen' : randGen(jumlahKromosom), 'Fitness' : 0}\n",
    "        populasi.append(kromosom)\n",
    "    return populasi"
   ]
  },
  {
   "cell_type": "code",
   "execution_count": 7,
   "metadata": {},
   "outputs": [],
   "source": [
    "def fitness(populasi):\n",
    "    fitness = []\n",
    "    length = len(populasi)\n",
    "    for i in range(length):\n",
    "        numOfData = 0\n",
    "        numOfCorrect = 0\n",
    "        popuReshape = np.reshape(populasi[i][\"Gen\"], (-1, 15))\n",
    "        with open('data_latih_opsi_2.csv') as dataLatih:\n",
    "            readCSV = csv.reader(dataLatih, delimiter=',')\n",
    "            for row in readCSV:\n",
    "                accepted = False\n",
    "                numOfData +=1\n",
    "                for j in range(len(popuReshape)):\n",
    "                    if(popuReshape[j][0] == 1 and row[0] == \"0\") or (popuReshape[j][1] == 1 and row[0] == \"1\") or (popuReshape[j][2] == 1 and row[0] == \"2\"):\n",
    "                        if(popuReshape[j][3] == 1 and row[1] == \"0\") or (popuReshape[j][4] == 1 and row[1] == \"1\") or (popuReshape[j][5] == 1 and row[1] == \"2\") or (popuReshape[j][6] == 1 and row[1] == \"3\"):\n",
    "                            if(popuReshape[j][7] == 1 and row[2] == \"0\") or (popuReshape[j][8] == 1 and row[2] == \"1\") or (popuReshape[j][9] == 1 and row[2] == \"2\") or (popuReshape[j][10] == 1 and row[2] == \"3\"):\n",
    "                                if(popuReshape[j][11] == 1 and row[3] == \"0\") or (popuReshape[j][12] == 1 and row[3] == \"1\") or (popuReshape[j][13] == 1 and row[3] == \"2\"):\n",
    "                                    if(str(popuReshape[j][14]) == row[4]):\n",
    "                                        accepted = True\n",
    "                if(accepted == True):\n",
    "                    numOfCorrect += 1\n",
    "        populasi[i][\"Fitness\"] = numOfCorrect / numOfData"
   ]
  },
  {
   "cell_type": "code",
   "execution_count": 8,
   "metadata": {},
   "outputs": [],
   "source": [
    "def test(bestGene):\n",
    "    result = []\n",
    "    geneReshape = np.reshape(bestGene[\"Gen\"], (-1, 15))\n",
    "    with open('data_uji_opsi_2.csv') as dataUji:\n",
    "        readCSV = csv.reader(dataUji, delimiter=',')\n",
    "        for row in readCSV:\n",
    "            depart = False\n",
    "            for j in range(len(geneReshape)):\n",
    "                if(geneReshape[j][0] == 1 and row[0] == \"0\") or (geneReshape[j][1] == 1 and row[0] == \"1\") or (geneReshape[j][2] == 1 and row[0] == \"2\"):\n",
    "                    if(geneReshape[j][3] == 1 and row[1] == \"0\") or (geneReshape[j][4] == 1 and row[1] == \"1\") or (geneReshape[j][5] == 1 and row[1] == \"2\") or (geneReshape[j][6] == 1 and row[1] == \"3\"):\n",
    "                        if(geneReshape[j][7] == 1 and row[2] == \"0\") or (geneReshape[j][8] == 1 and row[2] == \"1\") or (geneReshape[j][9] == 1 and row[2] == \"2\") or (geneReshape[j][10] == 1 and row[2] == \"3\"):\n",
    "                            if(geneReshape[j][11] == 1 and row[3] == \"0\") or (geneReshape[j][12] == 1 and row[3] == \"1\") or (geneReshape[j][13] == 1 and row[3] == \"2\"):\n",
    "                                depart = True\n",
    "            if(depart == True):\n",
    "                result.append(1)\n",
    "            else:\n",
    "                result.append(0)\n",
    "    return result"
   ]
  },
  {
   "cell_type": "code",
   "execution_count": 9,
   "metadata": {},
   "outputs": [],
   "source": [
    "def bestFitness(populasi):\n",
    "    #Return list berisi fitness terbaik dari masing masing generasi\n",
    "    arrBest = []\n",
    "    temp = []\n",
    "    maxFitness = 0\n",
    "    for i in range (len(populasi)):\n",
    "        if(populasi[i][\"Fitness\"] > maxFitness):\n",
    "            maxFitness = populasi[i][\"Fitness\"]\n",
    "            temp.append(populasi[i])\n",
    "    return temp[-1]"
   ]
  },
  {
   "cell_type": "code",
   "execution_count": 10,
   "metadata": {},
   "outputs": [],
   "source": [
    "def parentSelection(populasi):\n",
    "    tournament = []\n",
    "    tournament = sample(populasi, len(populasi)//2)\n",
    "    parent = sample(tournament, 2)\n",
    "    return parent"
   ]
  },
  {
   "cell_type": "code",
   "execution_count": 11,
   "metadata": {},
   "outputs": [],
   "source": [
    "def crossover(parent):\n",
    "    if(len(parent[0][\"Gen\"]) > len(parent[1][\"Gen\"])):\n",
    "        longest = len(parent[0][\"Gen\"])\n",
    "        shortest = len(parent[1][\"Gen\"])\n",
    "        \n",
    "        length = randint(1, shortest)\n",
    "        startPoint1 = randint(0, longest - length)\n",
    "        endPoint1 = startPoint1 + length\n",
    "        #print(\"Length \" + str(length) + \" Start =\" + str(startPoint1) + \" End =\" + str(endPoint1))\n",
    "\n",
    "        startPoint2 = randint(0, shortest - length)\n",
    "        endPoint2 = startPoint2 + length\n",
    "        #print(\"Length \" + str(length) + \" Start =\" + str(startPoint2) + \" End =\" + str(endPoint2))\n",
    "        parent[0][\"Gen\"][startPoint1:endPoint1], parent[1][\"Gen\"][startPoint2:endPoint2] = np.array(parent[1][\"Gen\"][startPoint2:endPoint2]), np.array(parent[0][\"Gen\"][startPoint1:endPoint1])\n",
    "    else:\n",
    "        longest = len(parent[1][\"Gen\"])\n",
    "        shortest = len(parent[0][\"Gen\"])\n",
    "    \n",
    "        length = randint(1, shortest)\n",
    "        startPoint1 = randint(0, longest - length)\n",
    "        endPoint1 = startPoint1 + length\n",
    "        #print(\"Length \" + str(length) + \" Start =\" + str(startPoint1) + \" End =\" + str(endPoint1))\n",
    "\n",
    "        startPoint2 = randint(0, shortest - length)\n",
    "        endPoint2 = startPoint2 + length\n",
    "        #print(\"Length \" + str(length) + \" Start =\" + str(startPoint2) + \" End =\" + str(endPoint2))\n",
    "        parent[0][\"Gen\"][startPoint2:endPoint2], parent[1][\"Gen\"][startPoint1:endPoint1] = np.array(parent[1][\"Gen\"][startPoint1:endPoint1]), np.array(parent[0][\"Gen\"][startPoint2:endPoint2])\n",
    "    \n",
    "   # print(\"Crossover\")\n",
    "   # print(\"Lenght parent 0\")\n",
    "   # print(len(parent[0][\"Gen\"]))\n",
    "   # print(\"Lenght parent 1\")\n",
    "   # print(len(parent[1][\"Gen\"]))\n",
    "    return parent"
   ]
  },
  {
   "cell_type": "code",
   "execution_count": 72,
   "metadata": {},
   "outputs": [],
   "source": [
    "def mutation(populasi):\n",
    "    for i in range(len(populasi)):\n",
    "        res = randint(0,50)\n",
    "        for j in range(len(populasi[i][\"Gen\"])):\n",
    "            if (res == 1):\n",
    "                if populasi[i][\"Gen\"][j] == 1:\n",
    "                    populasi[i][\"Gen\"][j] = 0\n",
    "                else:\n",
    "                    populasi[i][\"Gen\"][j] = 1\n",
    "    return populasi"
   ]
  },
  {
   "cell_type": "code",
   "execution_count": 68,
   "metadata": {},
   "outputs": [],
   "source": [
    "def training(populasi):\n",
    "    nextGen = []\n",
    "    arrBestFitness = []\n",
    "    max = 0\n",
    "    maxFitness = []\n",
    "    print(\"Membuat 50 Generasi\")\n",
    "    for i in tqdm(range(50)):\n",
    "        fitness(populasi)\n",
    "        arrBestFitness.append(bestFitness(populasi))\n",
    "        for j in range (len(populasi)//2):\n",
    "            parent = parentSelection(populasi)\n",
    "            offspring = crossover(parent)\n",
    "            for k in range(len(offspring)):\n",
    "                nextGen.append(offspring[k])\n",
    "        populasi.clear()\n",
    "        mutation(nextGen)\n",
    "        for l in range(len(nextGen)):\n",
    "            populasi.append(nextGen[l])\n",
    "        nextGen.clear()\n",
    "    \n",
    "    for i in range(len(arrBestFitness)):\n",
    "        if (arrBestFitness[i][\"Fitness\"] > max):\n",
    "            max = arrBestFitness[i][\"Fitness\"]\n",
    "            maxFitness.insert(0, arrBestFitness[i])\n",
    "    print(\"Gen terbaik\")\n",
    "    print(maxFitness[0])\n",
    "    print(\"\\n\")\n",
    "    \n",
    "    return maxFitness[0]"
   ]
  },
  {
   "cell_type": "code",
   "execution_count": 69,
   "metadata": {},
   "outputs": [],
   "source": [
    "def writeToText(result):\n",
    "    f = open(\"result.txt\", \"w\")\n",
    "    for i in range(len(result)):\n",
    "        f.write(str(result[i]))\n",
    "        f.write(\"\\n\")\n",
    "    f.close"
   ]
  },
  {
   "cell_type": "code",
   "execution_count": 70,
   "metadata": {},
   "outputs": [],
   "source": [
    "def main():\n",
    "    population = initPopulation()\n",
    "    bestGene = training(population)\n",
    "    result = test(bestGene)\n",
    "    writeToText(result)\n",
    "    print(\"Hasil uji\")\n",
    "    print(result)"
   ]
  },
  {
   "cell_type": "code",
   "execution_count": 85,
   "metadata": {},
   "outputs": [
    {
     "name": "stdout",
     "output_type": "stream",
     "text": [
      "Masukkan jumlah populasi awal : 100\n",
      "Membuat 50 Generasi\n"
     ]
    },
    {
     "name": "stderr",
     "output_type": "stream",
     "text": [
      "100%|██████████████████████████████████████████████████████████████████████████████████| 50/50 [00:06<00:00,  6.67it/s]\n"
     ]
    },
    {
     "name": "stdout",
     "output_type": "stream",
     "text": [
      "Gen terbaik\n",
      "{'Gen': [1, 1, 1, 1, 1, 1, 0, 0, 1, 1, 0, 1, 0, 1, 1, 0, 0, 1, 0, 1, 1, 1, 0, 0, 0, 1, 1, 1, 0, 0, 0, 1, 0, 0, 0, 0, 0, 1, 0, 1, 1, 1, 1, 1, 1, 1, 1, 0, 0, 1, 0, 1, 1, 0, 1, 1, 0, 0, 1, 1, 1, 1, 0, 1, 1, 0, 0, 1, 0, 1, 0, 1, 1, 1, 0, 1, 0, 0, 1, 1, 1, 0, 1, 0, 0, 0, 1, 0, 0, 1, 0, 1, 1, 1, 0, 0, 0, 0, 1, 0, 1, 1, 1, 0, 0, 1, 1, 0, 0, 1, 1, 0, 1, 0, 0, 0, 1, 0, 1, 0, 0, 1, 0, 0, 0, 1, 0, 1, 0, 0, 1, 0, 1, 1, 0], 'Fitness': 0.6}\n",
      "\n",
      "\n",
      "Hasil uji\n",
      "[0, 1, 1, 0, 0, 0, 1, 1, 1, 1, 1, 1, 1, 1, 1, 0, 0, 0, 1, 0]\n"
     ]
    }
   ],
   "source": [
    "main()"
   ]
  }
 ],
 "metadata": {
  "kernelspec": {
   "display_name": "Python 3",
   "language": "python",
   "name": "python3"
  },
  "language_info": {
   "codemirror_mode": {
    "name": "ipython",
    "version": 3
   },
   "file_extension": ".py",
   "mimetype": "text/x-python",
   "name": "python",
   "nbconvert_exporter": "python",
   "pygments_lexer": "ipython3",
   "version": "3.7.1"
  }
 },
 "nbformat": 4,
 "nbformat_minor": 2
}
